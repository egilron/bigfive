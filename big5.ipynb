{
 "metadata": {
  "language_info": {
   "codemirror_mode": {
    "name": "ipython",
    "version": 3
   },
   "file_extension": ".py",
   "mimetype": "text/x-python",
   "name": "python",
   "nbconvert_exporter": "python",
   "pygments_lexer": "ipython3",
   "version": "3.8.10"
  },
  "orig_nbformat": 2,
  "kernelspec": {
   "name": "python3",
   "display_name": "Python 3",
   "language": "python"
  }
 },
 "nbformat": 4,
 "nbformat_minor": 2,
 "cells": [
  {
   "source": [],
   "cell_type": "markdown",
   "metadata": {}
  },
  {
   "source": [
    "## Big 5\n",
    "Et datasett jeg fant. Se på korrelasjoner og vise de i Jupyter notebook\n",
    "https://openpsychometrics.org/_rawdata/\n"
   ],
   "cell_type": "markdown",
   "metadata": {}
  },
  {
   "cell_type": "code",
   "execution_count": null,
   "metadata": {},
   "outputs": [],
   "source": [
    "import pandas as pd\n",
    "import numpy as np\n",
    "import matplotlib\n",
    "import matplotlib.pyplot as plt"
   ]
  },
  {
   "cell_type": "code",
   "execution_count": null,
   "metadata": {},
   "outputs": [],
   "source": [
    "df_data = pd.read_csv(\"b5_svar.csv\")\n",
    "print(df_data.shape)\n",
    "df_data.head"
   ]
  },
  {
   "cell_type": "code",
   "execution_count": null,
   "metadata": {},
   "outputs": [],
   "source": [
    "# Plotte de fem gjennomsnittskolonnene fordelt på kjønn\n",
    "spm_grupper = {\"E\": \"Extraversion\", \"A\": \"Agreeableness\", \"C\": \"Conscientiousness\", \"N\": \"Emotional Stability\", \"O\": \"Intellect/Imagination\"}\n",
    "five = ['N', 'C', 'E', 'A', 'O']\n",
    "df_plot = df_data[five]\n",
    "pd.plotting.scatter_matrix(df_plot, alpha = 0.07, figsize = (12.0,12.0))\n",
    "plt.savefig(\"scattermatrix.jpg\")"
   ]
  },
  {
   "cell_type": "code",
   "execution_count": null,
   "metadata": {},
   "outputs": [],
   "source": [
    "fig=plt.figure(figsize = (18,12))\n",
    "bins = np.linspace(0, 5, 11)\n",
    "for i, kat in enumerate(five):\n",
    "    ax=fig.add_subplot(2,3,i+1)\n",
    "    x = df_data[kat][df_data[\"gender\"] == 1]\n",
    "    y = df_data[kat][df_data[\"gender\"] == 2]\n",
    "    print(\"\\n\"+kat, spm_grupper[kat])\n",
    "    plt.hist([x, y], bins, label=['male', 'female'], density = True)\n",
    "    plt.legend(loc='upper right')\n",
    "    plt.title(kat+\" \"+spm_grupper[kat])\n",
    "\n",
    "plt.savefig(\"kat_histogram.jpg\")\n",
    "plt.show()\n",
    "\n",
    "\n"
   ]
  },
  {
   "cell_type": "code",
   "execution_count": null,
   "metadata": {},
   "outputs": [],
   "source": [
    "# Få histogram på kvinner og menn, med alder bortover\n",
    "bins = np.linspace(0, 80, 41)\n",
    "plt.figure(figsize=[10,8])\n",
    "x = df_data[\"age\"][df_data[\"gender\"] == 1]\n",
    "y = df_data[\"age\"][df_data[\"gender\"] == 2]\n",
    "plt.hist([x, y], bins,label=['male', 'female'])\n",
    "plt.show()\n",
    "print(\"Age,  male,  female\")\n",
    "for age, frame in df_data.groupby(\"age\"):\n",
    "    print(age, len(frame[frame[\"gender\"]== 1]), len(frame[frame[\"gender\"]== 2]))"
   ]
  },
  {
   "cell_type": "code",
   "execution_count": null,
   "metadata": {},
   "outputs": [],
   "source": [
    "# Histogram på landskodene\n",
    "# Lage bar plot med landene som søyler, og gjennomsnitt for landet og bokstaven som verdi.\n",
    "\n",
    "# Iterere gjennom \n",
    "df_data.country.value_counts()[:10]\n",
    "cc5 = ['US', 'GB', 'IN', 'AU', 'CA']\n",
    "\n",
    "for i, kat in enumerate(five):\n",
    "    df_c = df_data[[kat,\"country\"]]\n",
    "    df_c[\"cc_5\"] = df_c[\"country\"].where(df_c[\"country\"].isin(cc5), \"other\")\n",
    "    df_c.rename({kat:kat+\"_\"+spm_grupper[kat]}, axis=1, inplace = True)\n",
    "    df_c.groupby(\"cc_5\").mean().plot(kind='bar', ylim=(2.5,4) , color='brown')\n",
    "    plt.savefig(\"country_\"+kat+\".jpg\")\n",
    "\n",
    "\n"
   ]
  },
  {
   "source": [
    "## Utvikling over tid \n",
    "Nå skal vi lage linjediagram der vi tar gjennomsnittet for hver av de fem for hvert årstall, og så hver årsgruppe"
   ],
   "cell_type": "markdown",
   "metadata": {}
  },
  {
   "cell_type": "code",
   "execution_count": null,
   "metadata": {},
   "outputs": [],
   "source": [
    "fig=plt.figure(figsize = (18,12))\n",
    "'''\n",
    "Hvilke ulike plott? FOr hver i five.\n",
    "Lage filter på dette, og groupby på kjønn'''\n",
    "df_gender_age = df_data[df_data[\"gender\"].isin([1, 2]) &  df_data.age.isin(range(60))]# Exclude 0 and 3\n",
    "df_gender_age[\"gender\"] = df_gender_age[\"gender\"].map({1:\"Male\", 2:\"Female\"})\n",
    "for c in five:\n",
    "    dfc = df_gender_age[[\"gender\", \"age\"]+[c]].rename(spm_grupper, axis = 1)\n",
    "    print(dfc)\n",
    "    dfc.groupby([\"gender\", \"age\"]).mean().unstack(\"gender\").plot(label=\"Hei\")\n",
    "    # df_data[m_f][[\"gender\", \"age\"]+five].groupby([\"gender\", \"age\"]).mean()\n",
    "    # df_gender_age[df_gender_age[\"gender\"] == g][[\"gender\", \"age\"]+[\"O\"]].groupby([\"gender\", \"age\"]).count()\n",
    "\n",
    "    "
   ]
  },
  {
   "cell_type": "code",
   "execution_count": null,
   "metadata": {
    "tags": []
   },
   "outputs": [],
   "source": [
    "## Nå med rolling average\n",
    "# For hver kategori: Lage en DataFrame med gender, c, age og gjennomsnittet\n",
    "# Groupby på gender, og passe på at den er sortert og så lage rolling average\n",
    "\n",
    "''' \n",
    "Hvilke ulike plott? FOr hver i five.\n",
    "Lage filter på dette, og groupby på kjønn '''\n",
    "\n",
    "dfga = df_data[df_data[\"gender\"].isin([1, 2]) &  df_data.age.isin(range(16,51))]# Exclude 0 and 3\n",
    "def feiler():\n",
    "    for c in five:\n",
    "        dfgc = dfga[[\"gender\", \"age\"]+[c]]\n",
    "        dfgc[\"5yr_avg\"] = dfgc[[\"gender\", \"age\"]+[c]].groupby([\"gender\", \"age\"]).rolling(5,1)[c].mean().reset_index(0,drop=True)\n",
    "        dfgc = dfgc.drop(c)\n",
    "        dfgc.groupby([\"gender\", \"age\"]).mean().unstack(\"gender\").plot()\n",
    "\n",
    "    # print(df_gender_age[[\"gender\", \"age\"]+[c]].groupby([\"gender\", \"age\"]).mean().unstack(\"gender\").columns)\n",
    "# df[\"R\"]  = df.groupby(\"X\").rolling(2, min_periods=1)[\"B\"].mean().reset_index(drop=True)\n",
    "\n",
    "\n",
    "df_agg = pd.DataFrame() # Bygger den opp for læringen\n",
    "for c in five:\n",
    "    dfgc = dfga[[\"gender\", \"age\"]+[c]]\n",
    "    for age, frame in dfgc.groupby([\"age\"]):\n",
    "        m = frame[frame[\"gender\"] == 1].agg({c:\"mean\"})[c]\n",
    "        f = frame[frame[\"gender\"] == 2].agg({c:\"mean\"})[c]\n",
    "        df_agg = df_agg.append({\"category\":c,\"age\": age ,\"male\": m, \"female\":f }, ignore_index=True)\n",
    "\n",
    "nrows, ncols = 3,2\n",
    "\n",
    "fig, axes = plt.subplots(nrows=nrows, ncols=ncols, figsize = (20,20))\n",
    "for idx, c in enumerate(five):\n",
    "    df_plot= df_agg[df_agg[\"category\"]== c ][[\"age\", \"male\", \"female\"]].set_index(\"age\").sort_index()\n",
    "    df_plot[\"male_5_avg\"] = df_plot[\"male\"].rolling(5, min_periods=1).mean()\n",
    "    df_plot[\"female_5_avg\"] = df_plot[\"female\"].rolling(5, min_periods=1).mean()\n",
    "    print(c)\n",
    "    df_plot[[ \"male_5_avg\", \"female_5_avg\"]].plot(title = c+\"-\"+spm_grupper[c], ax = axes[idx // ncols, idx % ncols])\n",
    "fig.savefig(\"kat_alder.jpg\")\n",
    "fig.show()"
   ]
  },
  {
   "cell_type": "code",
   "execution_count": null,
   "metadata": {},
   "outputs": [],
   "source": [
    "df_agg"
   ]
  },
  {
   "cell_type": "code",
   "execution_count": null,
   "metadata": {},
   "outputs": [],
   "source": [
    "print(df.columns)\n",
    "df.index"
   ]
  },
  {
   "source": [
    "## Importere data\n",
    "Jeg må ta inn informasjon om hvert spørsmål. Vite hvilken kategori de hører til, hva den vil si, og hvilke spørsmål som skal snus\n",
    "Tenker jeg lager det i excel, og så tar det inn her etterpå"
   ],
   "cell_type": "markdown",
   "metadata": {}
  },
  {
   "cell_type": "code",
   "execution_count": null,
   "metadata": {},
   "outputs": [],
   "source": [
    "# Bare kjøre denne hvis vi skal lage ny b5_svar.csv\n",
    "df = pd.read_csv(\"data.csv\", delimiter = \"\\t\")\n",
    "spm_grupper = {\"1\": \"Extraversion\", \"2\": \"Agreeableness\", \"3\": \"Conscientiousness\", \"4\": \"Emotional Stability\", \"5\": \"Intellect/Imagination\"}\n",
    "\n",
    "def likerettet (svarverdi, fortegn):\n",
    "    \"\"\" Tar inn svarverdien og snur den hvis fortegn på spørsmålesskalaen er -\n",
    "    5 blir 1, 2 blir 4 , 1 blir 5\n",
    "    \"\"\"\n",
    "    if fortegn == '-':\n",
    "        return 6-svarverdi\n",
    "    return svarverdi\n",
    "\n",
    "df_c = pd.read_csv (\"konvertering1.csv\", sep = \";\") \n",
    "print(df_c.columns)\n",
    "df_c[\"Kat\"] = df_c[\"Kat-Retning\"].str[0]\n",
    "df_c[\"Retning\"] = df_c[\"Kat-Retning\"].str[1]\n",
    "df_c=df_c.set_index('DS_kode')\n",
    "print(df_c.at['E4','Retning'])\n",
    "\n",
    "# Mappe funksjonen mot resultatet\n",
    "\n",
    "df_svar = df[['race', 'age', 'engnat', 'gender', 'hand', 'source', 'country']].copy()\n",
    "spms = ['E1',\n",
    "       'E2', 'E3', 'E4', 'E5', 'E6', 'E7', 'E8', 'E9', 'E10', 'N1', 'N2', 'N3',\n",
    "       'N4', 'N5', 'N6', 'N7', 'N8', 'N9', 'N10', 'A1', 'A2', 'A3', 'A4', 'A5',\n",
    "       'A6', 'A7', 'A8', 'A9', 'A10', 'C1', 'C2', 'C3', 'C4', 'C5', 'C6', 'C7',\n",
    "       'C8', 'C9', 'C10', 'O1', 'O2', 'O3', 'O4', 'O5', 'O6', 'O7', 'O8', 'O9',\n",
    "       'O10']\n",
    "for spm in  spms:\n",
    "       for idx in df_svar.index:\n",
    "           df_svar.at[idx,spm] = likerettet(df.at[idx, spm], df_c.at[spm,'Retning'])\n",
    "\n",
    "print(\"df og df_svar \",df.shape, df_svar.shape)\n",
    "\n",
    "for kat in ['E', 'N','A', 'C', 'O' ]: #Gjennomsnitt for hver kategori\n",
    "    c_idxs = [kat + str(n) for n in range(1,11)]\n",
    "    df_svar[kat] = df_svar[c_idxs].mean(axis=1)\n",
    "df_svar.to_csv(\"b5_svar.csv\")"
   ]
  },
  {
   "cell_type": "code",
   "execution_count": null,
   "metadata": {},
   "outputs": [],
   "source": [
    "## Tester importrutinen\n",
    "### likerettet()\n",
    "for n in range(1,6):\n",
    "    assert likerettet(n, '+') == n\n",
    "    assert likerettet(n, '-') == 6-n\n",
    "assert likerettet(5, '-') == 1\n",
    "\n",
    "print('OK')\n",
    "\n",
    "### Kladd\n",
    "\n",
    "df_test = pd.DataFrame({'i':['a', 'b', 'c'],'en':[1,11,111], 'to':[2,22,222]})\n",
    "df_test = df_test.set_index('i')\n",
    "for idx in df_test.index:\n",
    "    for c_idx in ['en', 'to']:\n",
    "        print(likerettet(df_test.at[idx,c_idx], df_c.at['E4','Retning']))\n",
    "df_test['g'] = df_test[['en','to']].mean(axis=1)\n",
    "df_test\n",
    "\n"
   ]
  },
  {
   "cell_type": "code",
   "execution_count": null,
   "metadata": {},
   "outputs": [],
   "source": [
    "df = pd.DataFrame({'B': [0, 1,3,4, 2, np.nan, 4], \"X\": [2,2,2,3,3,3,3]}).sort_values([\"X\", \"B\"])\n",
    "df[\"R\"]  = df.groupby(\"X\").rolling(2, min_periods=1)[\"B\"].mean().reset_index(drop=True)\n",
    "df[\"Y\"] = df[\"X\"].where(df[\"X\"].isin([1,2]) , 100 )\n",
    "df"
   ]
  }
 ]
}