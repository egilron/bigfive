{
 "metadata": {
  "language_info": {
   "codemirror_mode": {
    "name": "ipython",
    "version": 3
   },
   "file_extension": ".py",
   "mimetype": "text/x-python",
   "name": "python",
   "nbconvert_exporter": "python",
   "pygments_lexer": "ipython3",
   "version": "3.8.10"
  },
  "orig_nbformat": 2,
  "kernelspec": {
   "name": "python3",
   "display_name": "Python 3.8.10 64-bit ('ml01': conda)",
   "metadata": {
    "interpreter": {
     "hash": "c1608d49df37f7b5acfe6ac9cd4b1e25f5d21a475730e5f7d7024431f5524edd"
    }
   }
  }
 },
 "nbformat": 4,
 "nbformat_minor": 2,
 "cells": [
  {
   "source": [
    "## Big 5 pred \n",
    "I big5.ipynb gjorde jeg noen konverteringer og visualiseringer.\n",
    "Nå skal vi prøve å lage prediktive modeller:\n",
    "- Dele datrasettet i train og test (Ikke dev her, siden ikke så seriøst)\n",
    "- Skalere data \n",
    "- Bruke scikit-learn til å finne beste modell-arkitektur og hyperparametre"
   ],
   "cell_type": "markdown",
   "metadata": {}
  },
  {
   "cell_type": "code",
   "execution_count": 9,
   "metadata": {},
   "outputs": [
    {
     "output_type": "stream",
     "name": "stdout",
     "text": [
      "['Unnamed: 0', 'race', 'age', 'engnat', 'gender', 'hand', 'source', 'country', 'E1', 'E2', 'E3', 'E4', 'E5', 'E6', 'E7', 'E8', 'E9', 'E10', 'N1', 'N2', 'N3', 'N4', 'N5', 'N6', 'N7', 'N8', 'N9', 'N10', 'A1', 'A2', 'A3', 'A4', 'A5', 'A6', 'A7', 'A8', 'A9', 'A10', 'C1', 'C2', 'C3', 'C4', 'C5', 'C6', 'C7', 'C8', 'C9', 'C10', 'O1', 'O2', 'O3', 'O4', 'O5', 'O6', 'O7', 'O8', 'O9', 'O10', 'E', 'N', 'A', 'C', 'O']\ndata values: 1.0 5.0\n"
     ]
    }
   ],
   "source": [
    "import pandas as pd\n",
    "import numpy as np\n",
    "import matplotlib\n",
    "import matplotlib.pyplot as plt\n",
    "from sklearn.preprocessing import StandardScaler\n",
    "from sklearn.model_selection import train_test_split\n",
    "from sklearn.model_selection import cross_val_score\n",
    "from sklearn.pipeline import Pipeline\n",
    "from sklearn.model_selection import GridSearchCV\n",
    "from sklearn import linear_model\n",
    "from sklearn.svm import LinearSVR\n",
    "from sklearn.svm import SVC, SVR, LinearSVR\n",
    "from sklearn.kernel_ridge import KernelRidge\n",
    "from sklearn.ensemble import GradientBoostingRegressor\n",
    "\n",
    "\n",
    "# Hente inn datatsettet, filtrere feil og utliggere alder\n",
    "df_data = pd.read_csv(\"b5_svar.csv\")\n",
    "df_data = df_data[df_data[\"gender\"].isin([1, 2]) &  df_data.age.isin(range(16,51))]\n",
    "spm_grupper = {\"E\": \"Extraversion\", \"A\": \"Agreeableness\", \"C\": \"Conscientiousness\", \"N\": \"Emotional Stability\", \"O\": \"Intellect/Imagination\"}\n",
    "five = ['N', 'C', 'E', 'A', 'O']\n",
    "spm_c = [c for c in df_data.columns if c[-1].isdigit() and not c.startswith(\"Unnamed\")]\n",
    "print(list(df_data.columns))\n",
    "print(\"data values:\",df_data[spm_c].min().min(), df_data[spm_c].max().max())\n"
   ]
  },
  {
   "cell_type": "code",
   "execution_count": 11,
   "metadata": {},
   "outputs": [
    {
     "output_type": "stream",
     "name": "stdout",
     "text": [
      "LM_Ridge : Modellen estmierer i snitt 6.3 år feil i alder. Parametre: {'model__alpha': 0.01, 'model__tol': 0.9}\n",
      "ElasticNet : Modellen estmierer i snitt 6.4 år feil i alder. Parametre: {'model__alpha': 0.5, 'model__l1_ratio': 0.2}\n",
      "BayesianRidge : Modellen estmierer i snitt 6.3 år feil i alder. Parametre: {'model__alpha_1': 1e-05, 'model__alpha_2': 1e-07, 'model__lambda_1': 1e-07}\n",
      "KernelRidge : Modellen estmierer i snitt 25.3 år feil i alder. Parametre: {'model__alpha': 0.1}\n",
      "GradientBoostingRegressor : Modellen estmierer i snitt 5.9 år feil i alder. Parametre: {'model__loss': 'lad', 'model__max_depth': 5}\n",
      "LinearSVR : Modellen estmierer i snitt 6.0 år feil i alder. Parametre: {'model__C': 1.0, 'model__epsilon': 0.0, 'model__tol': 0.0001}\n",
      "SVR : Modellen estmierer i snitt 5.8 år feil i alder. Parametre: {'model__C': 5, 'model__kernel': 'rbf'}\n"
     ]
    }
   ],
   "source": [
    "# Take 1: Predikere alder bare utfra spørsmålene\n",
    "x = df_data[spm_c]\n",
    "y = df_data[\"age\"]\n",
    "x_train, x_test, y_train, y_test = train_test_split(x,y, test_size = 0.2)\n",
    "\n",
    "#Scikit-learn pipeline\n",
    "\n",
    "# from sklearn.linear_model import ElasticNet, from sklearn.linear_model import BayesianRidge\n",
    "modeller = [\n",
    "    {\"name\": \"LM_Ridge\", \"model\": linear_model.Ridge(), \n",
    "                     \"params\": {'model__alpha': [0.01, 0.1, 0.3,0.5, 0.8], 'model__tol': [0.9, 0.5, 0.1, 0.01]}},\n",
    "    {\"name\": \"ElasticNet\", \"model\": linear_model.ElasticNet(), \n",
    "                    \"params\": {\"model__alpha\": [0.5,1.0, 1,4], \"model__l1_ratio\": [0.2, 0.5, 0.8]}},\n",
    "    {\"name\": \"BayesianRidge\", \"model\": linear_model.BayesianRidge(), \n",
    "     \"params\":{'model__alpha_1': [1e-5, 1e-6, 1e-7], 'model__alpha_2': [1e-5, 1e-6, 1e-7], 'model__lambda_1': [1e-5, 1e-6, 1e-7] }},\n",
    "    {\"name\": \"KernelRidge\", \"model\": KernelRidge(), \n",
    "                    \"params\": {\"model__alpha\": [0.1, 0.5,1.0, 2.0]}},   \n",
    "    {\"name\": \"GradientBoostingRegressor\", \"model\": GradientBoostingRegressor(), \n",
    "                    \"params\": {\"model__loss\":['ls', 'lad', 'huber' ],\"model__max_depth\": [2,3,4,5,6]}},  \n",
    "    {\"name\": \"LinearSVR\", \"model\": LinearSVR(), \n",
    "        \"params\": {\"model__epsilon\":[0.0, 0.001, 0.1, 2], \"model__tol\": [0.0001, 0.005], \"model__C\":[0.5, 1.0, 2.0, 10.0]}},  \n",
    "    {\"name\": \"SVR\",   \"model\": SVR(),\n",
    "        \"params\":{\"model__kernel\":['linear',  'rbf', 'sigmoid'], \"model__C\": [ 1, 5, 10, 30]}}\n",
    "    ]\n",
    "\n",
    "for m in modeller: #Sjekke pat arameternavnene er riktige\n",
    "    given = set([p[7:] for p in m[\"params\"]])\n",
    "    pool = set(m[\"model\"].get_params())\n",
    "    assert given.issubset(pool), print(m[\"name\"],given, pool)\n",
    "\n",
    "for m in modeller:\n",
    "    steps = [('scaler', StandardScaler()), ('model', m[\"model\"]) ]\n",
    "    pipeline = Pipeline(steps)\n",
    "    parameters = m[\"params\"]\n",
    "    # print(parameters)\n",
    "    # print(m[\"model\"].get_params())\n",
    "    grid = GridSearchCV(pipeline, param_grid = parameters, cv=5, scoring = 'neg_mean_absolute_error')\n",
    "    grid.fit(x_train, y_train)\n",
    "    print(m[\"name\"],\": Modellen estmierer i snitt %3.1f år feil i alder.\" % -grid.score(x_test, y_test), \"Parametre:\", grid.best_params_)\n",
    "    with open (\"age_model.txt\", \"a\") as wf:\n",
    "        wf.write(m[\"name\"]+\": Modellen estmierer i snitt %3.1f år feil i alder.\" % -grid.score(x_test, y_test)+ \"Parametre:\"+ str(grid.best_params_))\n",
    "\n",
    "\n"
   ]
  },
  {
   "source": [],
   "cell_type": "markdown",
   "metadata": {}
  },
  {
   "cell_type": "code",
   "execution_count": 57,
   "metadata": {},
   "outputs": [
    {
     "output_type": "stream",
     "name": "stdout",
     "text": [
      "LM_ridge: 0.14040290516277312 0.013854181282183365\n",
      "SVR: 0.05937084613752271 0.04638912847902978\n"
     ]
    }
   ],
   "source": [
    "# Første utkast.\n",
    "\n",
    "\n",
    "model= linear_model.Ridge(alpha=.5)\n",
    "scores = cross_val_score(model, x, y, cv=7)\n",
    "print(\"LM_ridge:\", scores.mean(), scores.std())\n",
    "\n",
    "model = LinearSVR(random_state=0, tol=1e-05)\n",
    "scores = cross_val_score(model, x, y, cv=7)\n",
    "print(\"SVR:\", scores.mean(), scores.std())\n"
   ]
  },
  {
   "cell_type": "code",
   "execution_count": 4,
   "metadata": {},
   "outputs": [
    {
     "output_type": "error",
     "ename": "TypeError",
     "evalue": "write() takes exactly one argument (2 given)",
     "traceback": [
      "\u001b[1;31m---------------------------------------------------------------------------\u001b[0m",
      "\u001b[1;31mTypeError\u001b[0m                                 Traceback (most recent call last)",
      "\u001b[1;32m<ipython-input-4-d663c6b70c94>\u001b[0m in \u001b[0;36m<module>\u001b[1;34m\u001b[0m\n\u001b[0;32m      5\u001b[0m \u001b[0mset\u001b[0m\u001b[1;33m(\u001b[0m\u001b[0ma\u001b[0m\u001b[1;33m)\u001b[0m\u001b[1;33m.\u001b[0m\u001b[0missubset\u001b[0m\u001b[1;33m(\u001b[0m\u001b[0mset\u001b[0m\u001b[1;33m(\u001b[0m\u001b[0mb\u001b[0m\u001b[1;33m)\u001b[0m\u001b[1;33m)\u001b[0m\u001b[1;33m\u001b[0m\u001b[1;33m\u001b[0m\u001b[0m\n\u001b[0;32m      6\u001b[0m \u001b[1;32mwith\u001b[0m \u001b[0mopen\u001b[0m \u001b[1;33m(\u001b[0m\u001b[1;34m\"age_model.txt\"\u001b[0m\u001b[1;33m,\u001b[0m \u001b[1;34m\"a\"\u001b[0m\u001b[1;33m)\u001b[0m \u001b[1;32mas\u001b[0m \u001b[0mwf\u001b[0m\u001b[1;33m:\u001b[0m\u001b[1;33m\u001b[0m\u001b[1;33m\u001b[0m\u001b[0m\n\u001b[1;32m----> 7\u001b[1;33m     \u001b[0mwf\u001b[0m\u001b[1;33m.\u001b[0m\u001b[0mwrite\u001b[0m\u001b[1;33m(\u001b[0m\u001b[1;34m\"Overskrift\"\u001b[0m\u001b[1;33m,\u001b[0m \u001b[1;34m\"neste\"\u001b[0m\u001b[1;33m)\u001b[0m\u001b[1;33m\u001b[0m\u001b[1;33m\u001b[0m\u001b[0m\n\u001b[0m",
      "\u001b[1;31mTypeError\u001b[0m: write() takes exactly one argument (2 given)"
     ]
    }
   ],
   "source": [
    "# Kladd\n",
    "\n",
    "a = {1:10, 2:22}\n",
    "b = {1:11, 2:220}\n",
    "# len([n for n in a if n not in b])\n",
    "# len(set(a).intersection(b)) == len(a)\n",
    "set(a).issubset(set(b))\n"
   ]
  }
 ]
}